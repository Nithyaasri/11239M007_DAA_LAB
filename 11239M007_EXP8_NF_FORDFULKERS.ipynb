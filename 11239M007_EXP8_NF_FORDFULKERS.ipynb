{
  "nbformat": 4,
  "nbformat_minor": 0,
  "metadata": {
    "colab": {
      "provenance": [],
      "authorship_tag": "ABX9TyMF3enfpX59vYbOZi+sbIos",
      "include_colab_link": true
    },
    "kernelspec": {
      "name": "python3",
      "display_name": "Python 3"
    },
    "language_info": {
      "name": "python"
    }
  },
  "cells": [
    {
      "cell_type": "markdown",
      "metadata": {
        "id": "view-in-github",
        "colab_type": "text"
      },
      "source": [
        "<a href=\"https://colab.research.google.com/github/Nithyaasri/11239M007_DAA_LAB/blob/main/11239M007_EXP8_NF_FORDFULKERS.ipynb\" target=\"_parent\"><img src=\"https://colab.research.google.com/assets/colab-badge.svg\" alt=\"Open In Colab\"/></a>"
      ]
    },
    {
      "cell_type": "code",
      "execution_count": 1,
      "metadata": {
        "colab": {
          "base_uri": "https://localhost:8080/"
        },
        "id": "XqZT_fyYENrQ",
        "outputId": "a20596a2-6e8a-411c-f4a0-78a507523c99"
      },
      "outputs": [
        {
          "output_type": "stream",
          "name": "stdout",
          "text": [
            "The maximum possible flow is: 23\n",
            "\n",
            "Paths and flows used:\n",
            "Path: 0->2 -> 2->4 -> 4->5, Flow: 4\n",
            "Path: 0->2 -> 2->4 -> 4->3 -> 3->5, Flow: 7\n",
            "Path: 0->1 -> 1->3 -> 3->5, Flow: 12\n"
          ]
        }
      ],
      "source": [
        "from collections import defaultdict\n",
        "\n",
        "# Class to represent a graph\n",
        "class Graph:\n",
        "    def __init__(self, vertices):\n",
        "        self.V = vertices  # Number of vertices\n",
        "        self.graph = defaultdict(lambda: defaultdict(int))  # Nested dictionary to store graph\n",
        "\n",
        "    def add_edge(self, u, v, capacity):\n",
        "        self.graph[u][v] += capacity  # Add capacity to the edge\n",
        "        if v not in self.graph or u not in self.graph[v]:  # Initialize reverse edge with 0 capacity\n",
        "            self.graph[v][u] = 0\n",
        "\n",
        "    def _dfs(self, s, t, parent):\n",
        "        visited = [False] * self.V\n",
        "        stack = [s]\n",
        "        visited[s] = True\n",
        "\n",
        "        while stack:\n",
        "            u = stack.pop()\n",
        "            for v, capacity in self.graph[u].items():\n",
        "                if not visited[v] and capacity > 0:  # Edge with available capacity\n",
        "                    stack.append(v)\n",
        "                    visited[v] = True\n",
        "                    parent[v] = u\n",
        "                    if v == t:\n",
        "                        return True\n",
        "        return False\n",
        "\n",
        "    def ford_fulkerson(self, source, sink):\n",
        "        parent = [-1] * self.V  # To store the augmenting path\n",
        "        max_flow = 0  # Initialize max flow\n",
        "        augmenting_paths = []  # To store paths and their flows\n",
        "\n",
        "        # Augment the flow while there is a path from source to sink\n",
        "        while self._dfs(source, sink, parent):\n",
        "            # Find the maximum flow through the path found\n",
        "            path_flow = float(\"Inf\")\n",
        "            v = sink\n",
        "            path = []  # Store current path\n",
        "            while v != source:\n",
        "                u = parent[v]\n",
        "                path_flow = min(path_flow, self.graph[u][v])\n",
        "                path.append((u, v))\n",
        "                v = parent[v]\n",
        "            path.reverse()  # Reverse to get path from source to sink\n",
        "\n",
        "            # Update residual capacities and reverse capacities\n",
        "            v = sink\n",
        "            while v != source:\n",
        "                u = parent[v]\n",
        "                self.graph[u][v] -= path_flow\n",
        "                self.graph[v][u] += path_flow\n",
        "                v = parent[v]\n",
        "\n",
        "            max_flow += path_flow\n",
        "            augmenting_paths.append((path, path_flow))\n",
        "\n",
        "        return max_flow, augmenting_paths\n",
        "\n",
        "\n",
        "# Example usage\n",
        "if __name__ == \"__main__\":\n",
        "    g = Graph(6)\n",
        "    g.add_edge(0, 1, 16)\n",
        "    g.add_edge(0, 2, 13)\n",
        "    g.add_edge(1, 2, 10)\n",
        "    g.add_edge(1, 3, 12)\n",
        "    g.add_edge(2, 1, 4)\n",
        "    g.add_edge(2, 4, 14)\n",
        "    g.add_edge(3, 2, 9)\n",
        "    g.add_edge(3, 5, 20)\n",
        "    g.add_edge(4, 3, 7)\n",
        "    g.add_edge(4, 5, 4)\n",
        "\n",
        "    source = 0\n",
        "    sink = 5\n",
        "\n",
        "    max_flow, augmenting_paths = g.ford_fulkerson(source, sink)\n",
        "\n",
        "    print(f\"The maximum possible flow is: {max_flow}\")\n",
        "    print(\"\\nPaths and flows used:\")\n",
        "    for path, flow in augmenting_paths:\n",
        "        path_str = \" -> \".join(f\"{u}->{v}\" for u, v in path)\n",
        "        print(f\"Path: {path_str}, Flow: {flow}\")\n",
        "\n",
        "\n",
        "\n",
        ""
      ]
    }
  ]
}