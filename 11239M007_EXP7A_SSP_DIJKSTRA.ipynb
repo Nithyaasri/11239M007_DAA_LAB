{
  "nbformat": 4,
  "nbformat_minor": 0,
  "metadata": {
    "colab": {
      "provenance": [],
      "authorship_tag": "ABX9TyNbjpcQSKBKswbFce2Q7XOh",
      "include_colab_link": true
    },
    "kernelspec": {
      "name": "python3",
      "display_name": "Python 3"
    },
    "language_info": {
      "name": "python"
    }
  },
  "cells": [
    {
      "cell_type": "markdown",
      "metadata": {
        "id": "view-in-github",
        "colab_type": "text"
      },
      "source": [
        "<a href=\"https://colab.research.google.com/github/Nithyaasri/11239M007_DAA_LAB/blob/main/11239M007_EXP7A_SSP_DIJKSTRA.ipynb\" target=\"_parent\"><img src=\"https://colab.research.google.com/assets/colab-badge.svg\" alt=\"Open In Colab\"/></a>"
      ]
    },
    {
      "cell_type": "code",
      "execution_count": 1,
      "metadata": {
        "colab": {
          "base_uri": "https://localhost:8080/"
        },
        "id": "v8VKPeRwCYZ4",
        "outputId": "8e58eb6c-f454-46fa-a3bb-731f4c1bfe6c"
      },
      "outputs": [
        {
          "output_type": "stream",
          "name": "stdout",
          "text": [
            "Dijkstra's Algorithm starting from vertex D:\n",
            "\n",
            "Shortest distance from D to A: 4, Path: D --> A\n",
            "Shortest distance from D to B: 8, Path: D --> E --> C --> B\n",
            "Shortest distance from D to C: 6, Path: D --> E --> C\n",
            "Shortest distance from D to D: 0, Path: D\n",
            "Shortest distance from D to E: 2, Path: D --> E\n",
            "Shortest distance from D to F: 10, Path: D --> E --> C --> B --> F\n",
            "Shortest distance from D to G: 7, Path: D --> E --> G\n"
          ]
        }
      ],
      "source": [
        "class Graph:\n",
        "    def __init__(self, size):\n",
        "        self.adj_matrix = [[0] * size for _ in range(size)]\n",
        "        self.size = size\n",
        "        self.vertex_data = [''] * size\n",
        "\n",
        "    def add_edge(self, u, v, weight):\n",
        "        if 0 <= u < self.size and 0 <= v < self.size:\n",
        "            self.adj_matrix[u][v] = weight\n",
        "            self.adj_matrix[v][u] = weight  # For undirected graph\n",
        "\n",
        "    def add_vertex_data(self, vertex, data):\n",
        "        if 0 <= vertex < self.size:\n",
        "            self.vertex_data[vertex] = data\n",
        "\n",
        "    def dijkstra(self, start_vertex_data):\n",
        "        start_vertex = self.vertex_data.index(start_vertex_data)\n",
        "        distances = [float('inf')] * self.size\n",
        "        distances[start_vertex] = 0\n",
        "        visited = [False] * self.size\n",
        "        previous = [None] * self.size  # To store the previous node for path reconstruction\n",
        "\n",
        "        for _ in range(self.size):\n",
        "            min_distance = float('inf')\n",
        "            u = None\n",
        "            for i in range(self.size):\n",
        "                if not visited[i] and distances[i] < min_distance:\n",
        "                    min_distance = distances[i]\n",
        "                    u = i\n",
        "            if u is None:\n",
        "                break\n",
        "            visited[u] = True\n",
        "            for v in range(self.size):\n",
        "                if self.adj_matrix[u][v] != 0 and not visited[v]:\n",
        "                    alt = distances[u] + self.adj_matrix[u][v]\n",
        "                    if alt < distances[v]:\n",
        "                        distances[v] = alt\n",
        "                        previous[v] = u  # Record the path\n",
        "\n",
        "        return distances, previous\n",
        "\n",
        "    def reconstruct_path(self, previous, start_vertex):\n",
        "        path = []\n",
        "        current_node = start_vertex\n",
        "        while current_node is not None:\n",
        "            path.append(current_node)\n",
        "            current_node = previous[current_node]\n",
        "        return path[::-1]  # Reverse the path to start -> end\n",
        "\n",
        "# Creating the graph instance\n",
        "g = Graph(7)\n",
        "g.add_vertex_data(0, 'A')\n",
        "g.add_vertex_data(1, 'B')\n",
        "g.add_vertex_data(2, 'C')\n",
        "g.add_vertex_data(3, 'D')\n",
        "g.add_vertex_data(4, 'E')\n",
        "g.add_vertex_data(5, 'F')\n",
        "g.add_vertex_data(6, 'G')\n",
        "\n",
        "# Adding edges between vertices\n",
        "g.add_edge(3, 0, 4)  # D - A, weight 4\n",
        "g.add_edge(3, 4, 2)  # D - E, weight 2\n",
        "g.add_edge(0, 2, 3)  # A - C, weight 3\n",
        "g.add_edge(0, 4, 4)  # A - E, weight 4\n",
        "g.add_edge(4, 2, 4)  # E - C, weight 4\n",
        "g.add_edge(4, 6, 5)  # E - G, weight 5\n",
        "g.add_edge(2, 5, 5)  # C - F, weight 5\n",
        "g.add_edge(2, 1, 2)  # C - B, weight 2\n",
        "g.add_edge(1, 5, 2)  # B - F, weight 2\n",
        "g.add_edge(6, 5, 5)  # G - F, weight 5\n",
        "\n",
        "# Dijkstra's algorithm from D to all vertices\n",
        "print(\"Dijkstra's Algorithm starting from vertex D:\\n\")\n",
        "distances, previous = g.dijkstra('D')\n",
        "\n",
        "# Printing the results with path reconstruction\n",
        "for i, d in enumerate(distances):\n",
        "    path = g.reconstruct_path(previous, i)\n",
        "    path_data = ' --> '.join([g.vertex_data[node] for node in path])\n",
        "    print(f\"Shortest distance from D to {g.vertex_data[i]}: {d}, Path: {path_data}\")\n"
      ]
    }
  ]
}