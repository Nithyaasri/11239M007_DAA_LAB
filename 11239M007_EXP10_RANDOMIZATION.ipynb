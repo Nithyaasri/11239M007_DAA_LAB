{
  "nbformat": 4,
  "nbformat_minor": 0,
  "metadata": {
    "colab": {
      "provenance": [],
      "authorship_tag": "ABX9TyPVqyBznrMoeNiPm4vFUQAX",
      "include_colab_link": true
    },
    "kernelspec": {
      "name": "python3",
      "display_name": "Python 3"
    },
    "language_info": {
      "name": "python"
    }
  },
  "cells": [
    {
      "cell_type": "markdown",
      "metadata": {
        "id": "view-in-github",
        "colab_type": "text"
      },
      "source": [
        "<a href=\"https://colab.research.google.com/github/Nithyaasri/11239M007_DAA_LAB/blob/main/11239M007_EXP10_RANDOMIZATION.ipynb\" target=\"_parent\"><img src=\"https://colab.research.google.com/assets/colab-badge.svg\" alt=\"Open In Colab\"/></a>"
      ]
    },
    {
      "cell_type": "code",
      "execution_count": 1,
      "metadata": {
        "colab": {
          "base_uri": "https://localhost:8080/"
        },
        "id": "YJo8GelEF2-W",
        "outputId": "a2843d49-5ee6-4be6-e872-8978fabab487"
      },
      "outputs": [
        {
          "output_type": "stream",
          "name": "stdout",
          "text": [
            "Original array: 6 4 12 8 15 16 \n",
            "Sorted array: 4 6 8 12 15 16 \n"
          ]
        }
      ],
      "source": [
        "import random\n",
        "\n",
        "# Function to partition the array\n",
        "def partition_left(arr, low, high):\n",
        "    pivot = arr[high]\n",
        "    i = low\n",
        "    for j in range(low, high):\n",
        "        if arr[j] <= pivot:\n",
        "            arr[i], arr[j] = arr[j], arr[i]\n",
        "            i += 1\n",
        "    arr[i], arr[high] = arr[high], arr[i]\n",
        "    return i\n",
        "\n",
        "# Function to perform random partition\n",
        "def partition_right(arr, low, high):\n",
        "    r = random.randint(low, high)\n",
        "    arr[r], arr[high] = arr[high], arr[r]\n",
        "    return partition_left(arr, low, high)\n",
        "\n",
        "# Recursive function for quicksort\n",
        "def quicksort(arr, low, high):\n",
        "    if low < high:\n",
        "        p = partition_right(arr, low, high)\n",
        "        quicksort(arr, low, p - 1)\n",
        "        quicksort(arr, p + 1, high)\n",
        "\n",
        "# Function to print the array\n",
        "def printArray(arr):\n",
        "    for element in arr:\n",
        "        print(element, end=\" \")\n",
        "    print()\n",
        "\n",
        "# Driver code\n",
        "arr = [6, 4, 12, 8, 15, 16]\n",
        "n = len(arr)\n",
        "print(\"Original array:\", end=\" \")\n",
        "printArray(arr)\n",
        "quicksort(arr, 0, n - 1)\n",
        "print(\"Sorted array:\", end=\" \")\n",
        "printArray(arr)\n"
      ]
    }
  ]
}