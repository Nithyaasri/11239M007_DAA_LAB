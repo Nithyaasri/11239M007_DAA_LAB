{
  "nbformat": 4,
  "nbformat_minor": 0,
  "metadata": {
    "colab": {
      "provenance": [],
      "authorship_tag": "ABX9TyM9KwzEl0Omtaem5aJlW8Qk",
      "include_colab_link": true
    },
    "kernelspec": {
      "name": "python3",
      "display_name": "Python 3"
    },
    "language_info": {
      "name": "python"
    }
  },
  "cells": [
    {
      "cell_type": "markdown",
      "metadata": {
        "id": "view-in-github",
        "colab_type": "text"
      },
      "source": [
        "<a href=\"https://colab.research.google.com/github/Nithyaasri/11239M007_DAA_LAB/blob/main/11239M007_EXP5_TSM.ipynb\" target=\"_parent\"><img src=\"https://colab.research.google.com/assets/colab-badge.svg\" alt=\"Open In Colab\"/></a>"
      ]
    },
    {
      "cell_type": "code",
      "execution_count": 1,
      "metadata": {
        "colab": {
          "base_uri": "https://localhost:8080/"
        },
        "id": "DahCFSmS-1L0",
        "outputId": "68454388-0556-48d3-b232-8a21daee5215"
      },
      "outputs": [
        {
          "output_type": "stream",
          "name": "stdout",
          "text": [
            "Minimum cost: 80\n",
            "Shortest path: [0, 1, 3, 2, 0]\n"
          ]
        }
      ],
      "source": [
        "def tsp(mask, pos, dp, dist, n):\n",
        "    if mask == (1 << n) - 1:  # All cities visited\n",
        "        return dist[pos][0]  # Return cost to return to start city\n",
        "\n",
        "    if dp[mask][pos] != -1:  # Check memoization\n",
        "        return dp[mask][pos]\n",
        "\n",
        "    # Initialize minimum cost as infinity\n",
        "    min_cost = float('inf')\n",
        "\n",
        "    # Try visiting all unvisited cities\n",
        "    for city in range(n):\n",
        "        if mask & (1 << city) == 0:  # City not yet visited\n",
        "            new_cost = dist[pos][city] + tsp(mask | (1 << city), city, dp, dist, n)\n",
        "            min_cost = min(min_cost, new_cost)\n",
        "\n",
        "    dp[mask][pos] = min_cost  # Store result in DP table\n",
        "    return min_cost\n",
        "\n",
        "\n",
        "def find_shortest_path(dist, n):\n",
        "    # Initialize DP table with -1\n",
        "    dp = [[-1] * n for _ in range(1 << n)]\n",
        "\n",
        "    # Find the minimum cost starting from city 0\n",
        "    min_cost = tsp(1, 0, dp, dist, n)\n",
        "\n",
        "    # Reconstruct the shortest path\n",
        "    mask = 1\n",
        "    pos = 0\n",
        "    path = [0]\n",
        "    while mask != (1 << n) - 1:\n",
        "        next_city = None\n",
        "        for city in range(n):\n",
        "            if mask & (1 << city) == 0:  # City not visited\n",
        "                if next_city is None or dp[mask | (1 << city)][city] + dist[pos][city] < dp[mask | (1 << next_city)][next_city] + dist[pos][next_city]:\n",
        "                    next_city = city\n",
        "        path.append(next_city)\n",
        "        mask |= (1 << next_city)\n",
        "        pos = next_city\n",
        "\n",
        "    path.append(0)  # Return to start\n",
        "    return min_cost, path\n",
        "\n",
        "\n",
        "# Example usage\n",
        "dist = [\n",
        "    [0, 10, 15, 20],\n",
        "    [10, 0, 35, 25],\n",
        "    [15, 35, 0, 30],\n",
        "    [20, 25, 30, 0]\n",
        "]\n",
        "n = 4\n",
        "\n",
        "min_cost, path = find_shortest_path(dist, n)\n",
        "print(\"Minimum cost:\", min_cost)\n",
        "print(\"Shortest path:\", path)"
      ]
    }
  ]
}