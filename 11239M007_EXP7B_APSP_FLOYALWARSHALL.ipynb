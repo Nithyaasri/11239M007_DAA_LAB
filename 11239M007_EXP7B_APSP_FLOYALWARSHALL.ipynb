{
  "nbformat": 4,
  "nbformat_minor": 0,
  "metadata": {
    "colab": {
      "provenance": [],
      "authorship_tag": "ABX9TyNihrCf0N8xnPO8mpklhjXQ",
      "include_colab_link": true
    },
    "kernelspec": {
      "name": "python3",
      "display_name": "Python 3"
    },
    "language_info": {
      "name": "python"
    }
  },
  "cells": [
    {
      "cell_type": "markdown",
      "metadata": {
        "id": "view-in-github",
        "colab_type": "text"
      },
      "source": [
        "<a href=\"https://colab.research.google.com/github/Nithyaasri/11239M007_DAA_LAB/blob/main/11239M007_EXP7B_APSP_FLOYALWARSHALL.ipynb\" target=\"_parent\"><img src=\"https://colab.research.google.com/assets/colab-badge.svg\" alt=\"Open In Colab\"/></a>"
      ]
    },
    {
      "cell_type": "code",
      "execution_count": 1,
      "metadata": {
        "colab": {
          "base_uri": "https://localhost:8080/"
        },
        "id": "aFPLAqBFDtOo",
        "outputId": "8b745424-a4b8-4b8b-afc4-9c297a2dde48"
      },
      "outputs": [
        {
          "output_type": "stream",
          "name": "stdout",
          "text": [
            "The following matrix shows the shortest distances between every pair of vertices\n",
            "[0, 3, inf]\n",
            "[3, 0, inf]\n",
            "[4, 1, 0]\n"
          ]
        }
      ],
      "source": [
        "def floyd_warshall(graph):\n",
        "  v=len(graph)\n",
        "  dist=[row[:] for row in graph]\n",
        "  for k in range(v):\n",
        "    for i in range(v):\n",
        "      for j in range(v):\n",
        "        if dist[i][j]>dist[i][k]+dist[k][j]:\n",
        "          dist[i][j]=dist[i][k]+dist[k][j]\n",
        "  return dist\n",
        "def print_solution(dist):\n",
        "  print(\"The following matrix shows the shortest distances between every pair of vertices\")\n",
        "  for row in dist:\n",
        "    print(row)\n",
        "INF=float('inf')\n",
        "graph=[[0,3,INF],[3,0,INF],[INF,1,0]]\n",
        "shortest_distance=floyd_warshall(graph)\n",
        "print_solution(shortest_distance)\n",
        ""
      ]
    }
  ]
}