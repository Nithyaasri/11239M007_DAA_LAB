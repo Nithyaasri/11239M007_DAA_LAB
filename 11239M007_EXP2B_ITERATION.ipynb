{
  "nbformat": 4,
  "nbformat_minor": 0,
  "metadata": {
    "colab": {
      "provenance": [],
      "authorship_tag": "ABX9TyPlwgKb8EbQ2jNpyMFVLWIv",
      "include_colab_link": true
    },
    "kernelspec": {
      "name": "python3",
      "display_name": "Python 3"
    },
    "language_info": {
      "name": "python"
    }
  },
  "cells": [
    {
      "cell_type": "markdown",
      "metadata": {
        "id": "view-in-github",
        "colab_type": "text"
      },
      "source": [
        "<a href=\"https://colab.research.google.com/github/Nithyaasri/11239M007_DAA_LAB/blob/main/11239M007_EXP2B_ITERATION.ipynb\" target=\"_parent\"><img src=\"https://colab.research.google.com/assets/colab-badge.svg\" alt=\"Open In Colab\"/></a>"
      ]
    },
    {
      "cell_type": "code",
      "execution_count": 1,
      "metadata": {
        "colab": {
          "base_uri": "https://localhost:8080/"
        },
        "id": "L_3EY6fO8wiZ",
        "outputId": "00fa2300-c1d9-4a5e-9b04-57d4eed96a69"
      },
      "outputs": [
        {
          "output_type": "stream",
          "name": "stdout",
          "text": [
            "0 1 1 2 3 5 8 13 21 34 \n"
          ]
        }
      ],
      "source": [
        "def fibonacci_series(n):\n",
        "    a, b = 0, 1\n",
        "    for _ in range(n):\n",
        "        print(a, end=\" \")\n",
        "        a, b = b, a + b\n",
        "    print()\n",
        "fibonacci_series(10)"
      ]
    }
  ]
}