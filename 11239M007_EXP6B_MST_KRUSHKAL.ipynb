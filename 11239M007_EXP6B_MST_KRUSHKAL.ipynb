{
  "nbformat": 4,
  "nbformat_minor": 0,
  "metadata": {
    "colab": {
      "provenance": [],
      "authorship_tag": "ABX9TyOQmfWXb4juSLWzSN+P0+Wr",
      "include_colab_link": true
    },
    "kernelspec": {
      "name": "python3",
      "display_name": "Python 3"
    },
    "language_info": {
      "name": "python"
    }
  },
  "cells": [
    {
      "cell_type": "markdown",
      "metadata": {
        "id": "view-in-github",
        "colab_type": "text"
      },
      "source": [
        "<a href=\"https://colab.research.google.com/github/Nithyaasri/11239M007_DAA_LAB/blob/main/11239M007_EXP6B_MST_KRUSHKAL.ipynb\" target=\"_parent\"><img src=\"https://colab.research.google.com/assets/colab-badge.svg\" alt=\"Open In Colab\"/></a>"
      ]
    },
    {
      "cell_type": "code",
      "execution_count": 5,
      "metadata": {
        "colab": {
          "base_uri": "https://localhost:8080/"
        },
        "id": "94jctS_3AZ5V",
        "outputId": "5be3b9d4-afd2-4ae2-a9b8-1704a3d9228a"
      },
      "outputs": [
        {
          "output_type": "stream",
          "name": "stdout",
          "text": [
            "Original Graph:\n",
            "Graph vertices: [0, 1, 2, 3, 4]\n",
            "Graph edges with weights:\n",
            "Edge: 0-1, Weight: 2\n",
            "Edge: 0-3, Weight: 6\n",
            "Edge: 1-2, Weight: 3\n",
            "Edge: 1-3, Weight: 8\n",
            "Edge: 1-4, Weight: 5\n",
            "Edge: 2-4, Weight: 7\n",
            "Edge: 3-4, Weight: 9\n",
            "\n",
            "Minimum Spanning Tree:\n",
            "Edge: 0-1, Weight: 2\n",
            "Edge: 1-2, Weight: 3\n",
            "Edge: 1-4, Weight: 5\n",
            "Edge: 0-3, Weight: 6\n",
            "Total cost of MST: 16\n"
          ]
        }
      ],
      "source": [
        "class Graph:\n",
        "    def __init__(self, vertices):\n",
        "        self.v = vertices\n",
        "        self.edges = []  # List to store edges in the format (weight, u, v)\n",
        "\n",
        "    def add_edge(self, u, v, w):\n",
        "        self.edges.append((w, u, v))\n",
        "\n",
        "    def find_parent(self, parent, i):\n",
        "        if parent[i] == i:\n",
        "            return i\n",
        "        return self.find_parent(parent, parent[i])\n",
        "\n",
        "    def union(self, parent, rank, x, y):\n",
        "        xroot = self.find_parent(parent, x)\n",
        "        yroot = self.find_parent(parent, y)\n",
        "\n",
        "        if rank[xroot] < rank[yroot]:\n",
        "            parent[xroot] = yroot\n",
        "        elif rank[xroot] > rank[yroot]:\n",
        "            parent[yroot] = xroot\n",
        "        else:\n",
        "            parent[yroot] = xroot\n",
        "            rank[xroot] += 1\n",
        "\n",
        "    def kruskal_mst(self):\n",
        "        self.edges.sort()  # Sort edges based on weight\n",
        "        parent = []\n",
        "        rank = []\n",
        "\n",
        "        # Initialize parent and rank arrays\n",
        "        for node in range(self.v):\n",
        "            parent.append(node)\n",
        "            rank.append(0)\n",
        "\n",
        "        mst_edges = []  # List to store edges in the MST\n",
        "        total_cost = 0\n",
        "\n",
        "        # Process each edge\n",
        "        for weight, u, v in self.edges:\n",
        "            x = self.find_parent(parent, u)\n",
        "            y = self.find_parent(parent, v)\n",
        "\n",
        "            # If including this edge doesn't form a cycle\n",
        "            if x != y:\n",
        "                mst_edges.append((u, v, weight))\n",
        "                total_cost += weight\n",
        "                self.union(parent, rank, x, y)\n",
        "\n",
        "        return mst_edges, total_cost\n",
        "\n",
        "    def display_graph(self):\n",
        "        print(\"Graph vertices:\", list(range(self.v)))\n",
        "        print(\"Graph edges with weights:\")\n",
        "        for weight, u, v in self.edges:\n",
        "            print(f\"Edge: {u}-{v}, Weight: {weight}\")\n",
        "\n",
        "\n",
        "# Main function to demonstrate Kruskal's algorithm\n",
        "def main():\n",
        "    g = Graph(5)\n",
        "    g.add_edge(0, 1, 2)\n",
        "    g.add_edge(0, 3, 6)\n",
        "    g.add_edge(1, 2, 3)\n",
        "    g.add_edge(1, 3, 8)\n",
        "    g.add_edge(1, 4, 5)\n",
        "    g.add_edge(2, 4, 7)\n",
        "    g.add_edge(3, 4, 9)\n",
        "\n",
        "    print(\"Original Graph:\")\n",
        "    g.display_graph()\n",
        "\n",
        "    mst, total_cost = g.kruskal_mst()\n",
        "    print(\"\\nMinimum Spanning Tree:\")\n",
        "    for u, v, weight in mst:\n",
        "        print(f\"Edge: {u}-{v}, Weight: {weight}\")\n",
        "    print(f\"Total cost of MST: {total_cost}\")\n",
        "\n",
        "\n",
        "if __name__ == \"__main__\":\n",
        "    main()\n"
      ]
    }
  ]
}