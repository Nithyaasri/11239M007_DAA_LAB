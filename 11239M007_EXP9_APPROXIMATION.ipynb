{
  "nbformat": 4,
  "nbformat_minor": 0,
  "metadata": {
    "colab": {
      "provenance": [],
      "authorship_tag": "ABX9TyPk/t6y+VY+9/GNTpEpjyNF",
      "include_colab_link": true
    },
    "kernelspec": {
      "name": "python3",
      "display_name": "Python 3"
    },
    "language_info": {
      "name": "python"
    }
  },
  "cells": [
    {
      "cell_type": "markdown",
      "metadata": {
        "id": "view-in-github",
        "colab_type": "text"
      },
      "source": [
        "<a href=\"https://colab.research.google.com/github/Nithyaasri/11239M007_DAA_LAB/blob/main/11239M007_EXP9_APPROXIMATION.ipynb\" target=\"_parent\"><img src=\"https://colab.research.google.com/assets/colab-badge.svg\" alt=\"Open In Colab\"/></a>"
      ]
    },
    {
      "cell_type": "code",
      "execution_count": 1,
      "metadata": {
        "colab": {
          "base_uri": "https://localhost:8080/"
        },
        "id": "eWSFPLh9FO5-",
        "outputId": "00eb27e9-41ad-404a-8cc7-5fea92ce5c6e"
      },
      "outputs": [
        {
          "output_type": "stream",
          "name": "stdout",
          "text": [
            "Vertex Cover: 1 2 3 4 5 7 \n"
          ]
        }
      ],
      "source": [
        "MAX_VERTICES = 100\n",
        "graph = [[0 for _ in range(MAX_VERTICES)] for _ in range(MAX_VERTICES)]\n",
        "included = [False for _ in range(MAX_VERTICES)]\n",
        "\n",
        "# Function to find Vertex Cover using the APPROX-VERTEX_COVER algorithm\n",
        "def approx_vertex_cover(vertices, edges):\n",
        "    edges_remaining = [row[:] for row in graph]  # Create a copy of the graph\n",
        "    while edges > 0:\n",
        "        # Find the first edge\n",
        "        u, v = -1, -1\n",
        "        for i in range(vertices):\n",
        "            for j in range(vertices):\n",
        "                if edges_remaining[i][j]:\n",
        "                    u, v = i, j\n",
        "                    break\n",
        "            if u != -1:  # Exit outer loop if an edge is found\n",
        "                break\n",
        "\n",
        "        # Include u and v in the vertex cover\n",
        "        included[u] = included[v] = True\n",
        "\n",
        "        # Remove edges connected to u and v\n",
        "        for i in range(vertices):\n",
        "            edges_remaining[u][i] = edges_remaining[i][u] = 0\n",
        "            edges_remaining[v][i] = edges_remaining[i][v] = 0\n",
        "\n",
        "        # Decrement the number of edges\n",
        "        edges -= 1\n",
        "\n",
        "if __name__ == \"__main__\":\n",
        "    vertices = 8\n",
        "    edges = 10\n",
        "    edges_data = [\n",
        "        (1, 6), (1, 2), (1, 4), (2, 3), (2, 4),\n",
        "        (6, 7), (4, 7), (7, 8), (3, 5), (8, 5)\n",
        "    ]\n",
        "\n",
        "    # Populate the graph\n",
        "    for u, v in edges_data:\n",
        "        graph[u][v] = graph[v][u] = 1\n",
        "\n",
        "    # Call the function to find the vertex cover\n",
        "    approx_vertex_cover(vertices + 1, edges)  # +1 because vertices are 1-indexed\n",
        "\n",
        "    # Print the vertex cover\n",
        "    print(\"Vertex Cover:\", end=\" \")\n",
        "    for i in range(1, vertices + 1):\n",
        "        if included[i]:\n",
        "            print(i, end=\" \")\n",
        "    print()\n"
      ]
    }
  ]
}