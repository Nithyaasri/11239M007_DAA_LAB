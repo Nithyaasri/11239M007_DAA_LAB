{
  "nbformat": 4,
  "nbformat_minor": 0,
  "metadata": {
    "colab": {
      "provenance": [],
      "authorship_tag": "ABX9TyMpvKmBOq3VNLlo9vkPDUwN",
      "include_colab_link": true
    },
    "kernelspec": {
      "name": "python3",
      "display_name": "Python 3"
    },
    "language_info": {
      "name": "python"
    }
  },
  "cells": [
    {
      "cell_type": "markdown",
      "metadata": {
        "id": "view-in-github",
        "colab_type": "text"
      },
      "source": [
        "<a href=\"https://colab.research.google.com/github/Nithyaasri/11239M007_DAA_LAB/blob/main/11239M007_EXP4_FK_GREEDY.ipynb\" target=\"_parent\"><img src=\"https://colab.research.google.com/assets/colab-badge.svg\" alt=\"Open In Colab\"/></a>"
      ]
    },
    {
      "cell_type": "code",
      "execution_count": 1,
      "metadata": {
        "colab": {
          "base_uri": "https://localhost:8080/"
        },
        "id": "yHRslHY9-RG-",
        "outputId": "d68caa44-4680-41ca-e411-fc70eeccf79a"
      },
      "outputs": [
        {
          "output_type": "stream",
          "name": "stdout",
          "text": [
            "The max profit we can carry in the knapsack is: 240.00\n",
            "Selected items (name, value, weight, fraction taken, profit value, percentage taken):\n",
            "item 1: value=60.00, weight=10.00, fraction_taken=1.00, profit=60.00, percentage_taken=100.00%\n",
            "item 2: value=100.00, weight=20.00, fraction_taken=1.00, profit=100.00, percentage_taken=100.00%\n",
            "item 3: value=80.00, weight=20.00, fraction_taken=0.67, profit=80.00, percentage_taken=66.67%\n",
            "Total profit: 240.00\n"
          ]
        }
      ],
      "source": [
        "class Item:\n",
        "    def __init__(self, value, weight, name):\n",
        "        self.value = value\n",
        "        self.weight = weight\n",
        "        self.name = name\n",
        "        self.ratio = value / weight\n",
        "    def fractional_knapsack(items, capacity):\n",
        "        items.sort(key=lambda x: x.ratio, reverse=True)\n",
        "        total_value = 0\n",
        "        selected_items = []\n",
        "\n",
        "        for item in items:\n",
        "            if capacity == 0:\n",
        "                break\n",
        "\n",
        "            if item.weight <= capacity:\n",
        "                total_value += item.value\n",
        "                selected_items.append((item.name, item.value, item.weight, 1, item.value))\n",
        "                capacity -= item.weight\n",
        "            else:\n",
        "                fraction_value = item.value * (capacity / item.weight)\n",
        "                total_value += fraction_value\n",
        "                fraction_taken = capacity / item.weight\n",
        "                selected_items.append((item.name, fraction_value, capacity, fraction_taken, fraction_value))\n",
        "                capacity = 0\n",
        "\n",
        "        return total_value, selected_items\n",
        "\n",
        "items = [Item(60, 10, 'item 1'), Item(100, 20, 'item 2'), Item(120, 30, 'item 3')]\n",
        "capacity = 50\n",
        "\n",
        "max_value, selected_items = Item.fractional_knapsack(items, capacity)\n",
        "\n",
        "print(f\"The max profit we can carry in the knapsack is: {max_value:.2f}\")\n",
        "print(\"Selected items (name, value, weight, fraction taken, profit value, percentage taken):\")\n",
        "\n",
        "total_profit = 0\n",
        "for name, value, weight, fraction, profit in selected_items:\n",
        "    percentage_taken = fraction * 100\n",
        "    total_profit += profit\n",
        "    print(f\"{name}: value={value:.2f}, weight={weight:.2f}, fraction_taken={fraction:.2f}, profit={profit:.2f}, percentage_taken={percentage_taken:.2f}%\")\n",
        "\n",
        "print(f\"Total profit: {total_profit:.2f}\")"
      ]
    }
  ]
}